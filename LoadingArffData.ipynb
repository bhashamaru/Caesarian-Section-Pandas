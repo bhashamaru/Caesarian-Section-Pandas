{
 "cells": [
  {
   "cell_type": "code",
   "execution_count": 1,
   "id": "c9c66047-04a8-4131-8d44-c81dbdac6976",
   "metadata": {
    "scrolled": true
   },
   "outputs": [
    {
     "name": "stdout",
     "output_type": "stream",
     "text": [
      "   Age Delivery number Delivery time Blood Pressure Heart Problem Caesarian\n",
      "0   22               1             0              2             0         0\n",
      "1   26               2             0              1             0         1\n",
      "2   26               2             1              1             0         0\n",
      "3   28               1             0              2             0         0\n",
      "4   22               2             0              1             0         1\n",
      "..  ..             ...           ...            ...           ...       ...\n",
      "75  27               2             1              1             0         0\n",
      "76  33               4             0              1             0         1\n",
      "77  29               2             1              2             0         1\n",
      "78  25               1             2              0             0         1\n",
      "79  24               2             2              1             0         0\n",
      "\n",
      "[80 rows x 6 columns]\n"
     ]
    }
   ],
   "source": [
    "import arff\n",
    "import pandas as pd\n",
    "\n",
    "# Path to your ARFF file\n",
    "arff_file_path = 'caesarian.csv.arff'\n",
    "\n",
    "# Open and read the ARFF file\n",
    "with open(arff_file_path, 'r') as f:\n",
    "    # Load ARFF file\n",
    "    arff_data = arff.load(f)\n",
    "\n",
    "# Extract data and attributes from the ARFF file\n",
    "data = arff_data['data']\n",
    "attributes = arff_data['attributes']\n",
    "\n",
    "# Extract attribute names\n",
    "column_names = [attr[0] for attr in attributes]\n",
    "\n",
    "# Create a DataFrame from the data\n",
    "df = pd.DataFrame(data, columns=column_names)\n",
    "\n",
    "# Display the DataFrame\n",
    "print(df)\n"
   ]
  },
  {
   "cell_type": "code",
   "execution_count": 2,
   "id": "cd5fdf64-289f-41fd-a5d7-04126ccfde18",
   "metadata": {
    "scrolled": true
   },
   "outputs": [
    {
     "data": {
      "text/html": [
       "<div>\n",
       "<style scoped>\n",
       "    .dataframe tbody tr th:only-of-type {\n",
       "        vertical-align: middle;\n",
       "    }\n",
       "\n",
       "    .dataframe tbody tr th {\n",
       "        vertical-align: top;\n",
       "    }\n",
       "\n",
       "    .dataframe thead th {\n",
       "        text-align: right;\n",
       "    }\n",
       "</style>\n",
       "<table border=\"1\" class=\"dataframe\">\n",
       "  <thead>\n",
       "    <tr style=\"text-align: right;\">\n",
       "      <th></th>\n",
       "      <th>Age</th>\n",
       "      <th>Delivery number</th>\n",
       "      <th>Delivery time</th>\n",
       "      <th>Blood Pressure</th>\n",
       "      <th>Heart Problem</th>\n",
       "      <th>Caesarian</th>\n",
       "    </tr>\n",
       "  </thead>\n",
       "  <tbody>\n",
       "    <tr>\n",
       "      <th>0</th>\n",
       "      <td>22</td>\n",
       "      <td>1</td>\n",
       "      <td>0</td>\n",
       "      <td>2</td>\n",
       "      <td>0</td>\n",
       "      <td>0</td>\n",
       "    </tr>\n",
       "    <tr>\n",
       "      <th>1</th>\n",
       "      <td>26</td>\n",
       "      <td>2</td>\n",
       "      <td>0</td>\n",
       "      <td>1</td>\n",
       "      <td>0</td>\n",
       "      <td>1</td>\n",
       "    </tr>\n",
       "    <tr>\n",
       "      <th>2</th>\n",
       "      <td>26</td>\n",
       "      <td>2</td>\n",
       "      <td>1</td>\n",
       "      <td>1</td>\n",
       "      <td>0</td>\n",
       "      <td>0</td>\n",
       "    </tr>\n",
       "    <tr>\n",
       "      <th>3</th>\n",
       "      <td>28</td>\n",
       "      <td>1</td>\n",
       "      <td>0</td>\n",
       "      <td>2</td>\n",
       "      <td>0</td>\n",
       "      <td>0</td>\n",
       "    </tr>\n",
       "    <tr>\n",
       "      <th>4</th>\n",
       "      <td>22</td>\n",
       "      <td>2</td>\n",
       "      <td>0</td>\n",
       "      <td>1</td>\n",
       "      <td>0</td>\n",
       "      <td>1</td>\n",
       "    </tr>\n",
       "  </tbody>\n",
       "</table>\n",
       "</div>"
      ],
      "text/plain": [
       "  Age Delivery number Delivery time Blood Pressure Heart Problem Caesarian\n",
       "0  22               1             0              2             0         0\n",
       "1  26               2             0              1             0         1\n",
       "2  26               2             1              1             0         0\n",
       "3  28               1             0              2             0         0\n",
       "4  22               2             0              1             0         1"
      ]
     },
     "execution_count": 2,
     "metadata": {},
     "output_type": "execute_result"
    }
   ],
   "source": [
    "df.head()"
   ]
  },
  {
   "cell_type": "code",
   "execution_count": 4,
   "id": "95807f1e-6f95-49f9-b6ed-07d98e7e9f8f",
   "metadata": {},
   "outputs": [
    {
     "name": "stdout",
     "output_type": "stream",
     "text": [
      "<class 'pandas.core.frame.DataFrame'>\n",
      "RangeIndex: 80 entries, 0 to 79\n",
      "Data columns (total 6 columns):\n",
      " #   Column           Non-Null Count  Dtype \n",
      "---  ------           --------------  ----- \n",
      " 0   Age              80 non-null     object\n",
      " 1   Delivery number  80 non-null     object\n",
      " 2   Delivery time    80 non-null     object\n",
      " 3   Blood Pressure   80 non-null     object\n",
      " 4   Heart Problem    80 non-null     object\n",
      " 5   Caesarian        80 non-null     object\n",
      "dtypes: object(6)\n",
      "memory usage: 3.9+ KB\n"
     ]
    }
   ],
   "source": [
    "df.info()"
   ]
  },
  {
   "cell_type": "markdown",
   "id": "436a6038-aaf7-4431-99db-302b6b5d4ca5",
   "metadata": {},
   "source": [
    "Changing datatypes of columns to make memory consumption low"
   ]
  },
  {
   "cell_type": "code",
   "execution_count": 5,
   "id": "69a5656f-22cc-44d2-b870-bd3715164b2b",
   "metadata": {},
   "outputs": [],
   "source": [
    "df[\"Age\"]= df[\"Age\"].astype(int)\n",
    "df[\"Delivery number\"] = df[\"Delivery number\"].astype(int)\n",
    "df[\"Delivery time\"] = df[\"Delivery time\"].astype(\"category\")\n",
    "df[\"Blood Pressure\"] = df[\"Blood Pressure\"].astype(\"category\")\n",
    "df[\"Heart Problem\"] = df[\"Heart Problem\"].astype(\"category\")\n",
    "df[\"Caesarian\"] = df[\"Caesarian\"].astype(\"category\")\n",
    "df[\"Caesarian\"] = df[\"Caesarian\"].astype(\"category\")"
   ]
  },
  {
   "cell_type": "code",
   "execution_count": 6,
   "id": "5bc45c13-b6e1-4578-9401-fed2909968aa",
   "metadata": {},
   "outputs": [
    {
     "name": "stdout",
     "output_type": "stream",
     "text": [
      "<class 'pandas.core.frame.DataFrame'>\n",
      "RangeIndex: 80 entries, 0 to 79\n",
      "Data columns (total 6 columns):\n",
      " #   Column           Non-Null Count  Dtype   \n",
      "---  ------           --------------  -----   \n",
      " 0   Age              80 non-null     int32   \n",
      " 1   Delivery number  80 non-null     int32   \n",
      " 2   Delivery time    80 non-null     category\n",
      " 3   Blood Pressure   80 non-null     category\n",
      " 4   Heart Problem    80 non-null     category\n",
      " 5   Caesarian        80 non-null     category\n",
      "dtypes: category(4), int32(2)\n",
      "memory usage: 1.6 KB\n"
     ]
    }
   ],
   "source": [
    "df.info()"
   ]
  },
  {
   "cell_type": "code",
   "execution_count": 42,
   "id": "87b8448b-0c32-4caa-9648-0d57c1e565cb",
   "metadata": {
    "scrolled": true
   },
   "outputs": [
    {
     "data": {
      "text/html": [
       "<div>\n",
       "<style scoped>\n",
       "    .dataframe tbody tr th:only-of-type {\n",
       "        vertical-align: middle;\n",
       "    }\n",
       "\n",
       "    .dataframe tbody tr th {\n",
       "        vertical-align: top;\n",
       "    }\n",
       "\n",
       "    .dataframe thead th {\n",
       "        text-align: right;\n",
       "    }\n",
       "</style>\n",
       "<table border=\"1\" class=\"dataframe\">\n",
       "  <thead>\n",
       "    <tr style=\"text-align: right;\">\n",
       "      <th></th>\n",
       "      <th>Age</th>\n",
       "      <th>Delivery number</th>\n",
       "      <th>Delivery time</th>\n",
       "      <th>Blood Pressure</th>\n",
       "      <th>Heart Problem</th>\n",
       "      <th>Caesarian</th>\n",
       "    </tr>\n",
       "  </thead>\n",
       "  <tbody>\n",
       "    <tr>\n",
       "      <th>70</th>\n",
       "      <td>17</td>\n",
       "      <td>1</td>\n",
       "      <td>0</td>\n",
       "      <td>0</td>\n",
       "      <td>0</td>\n",
       "      <td>1</td>\n",
       "    </tr>\n",
       "    <tr>\n",
       "      <th>26</th>\n",
       "      <td>18</td>\n",
       "      <td>1</td>\n",
       "      <td>1</td>\n",
       "      <td>2</td>\n",
       "      <td>1</td>\n",
       "      <td>1</td>\n",
       "    </tr>\n",
       "    <tr>\n",
       "      <th>61</th>\n",
       "      <td>19</td>\n",
       "      <td>1</td>\n",
       "      <td>0</td>\n",
       "      <td>1</td>\n",
       "      <td>0</td>\n",
       "      <td>1</td>\n",
       "    </tr>\n",
       "    <tr>\n",
       "      <th>41</th>\n",
       "      <td>19</td>\n",
       "      <td>1</td>\n",
       "      <td>0</td>\n",
       "      <td>1</td>\n",
       "      <td>0</td>\n",
       "      <td>1</td>\n",
       "    </tr>\n",
       "    <tr>\n",
       "      <th>17</th>\n",
       "      <td>20</td>\n",
       "      <td>1</td>\n",
       "      <td>2</td>\n",
       "      <td>2</td>\n",
       "      <td>0</td>\n",
       "      <td>1</td>\n",
       "    </tr>\n",
       "    <tr>\n",
       "      <th>24</th>\n",
       "      <td>20</td>\n",
       "      <td>1</td>\n",
       "      <td>0</td>\n",
       "      <td>2</td>\n",
       "      <td>1</td>\n",
       "      <td>1</td>\n",
       "    </tr>\n",
       "    <tr>\n",
       "      <th>57</th>\n",
       "      <td>21</td>\n",
       "      <td>1</td>\n",
       "      <td>0</td>\n",
       "      <td>0</td>\n",
       "      <td>0</td>\n",
       "      <td>1</td>\n",
       "    </tr>\n",
       "    <tr>\n",
       "      <th>51</th>\n",
       "      <td>21</td>\n",
       "      <td>2</td>\n",
       "      <td>1</td>\n",
       "      <td>0</td>\n",
       "      <td>1</td>\n",
       "      <td>1</td>\n",
       "    </tr>\n",
       "    <tr>\n",
       "      <th>4</th>\n",
       "      <td>22</td>\n",
       "      <td>2</td>\n",
       "      <td>0</td>\n",
       "      <td>1</td>\n",
       "      <td>0</td>\n",
       "      <td>1</td>\n",
       "    </tr>\n",
       "    <tr>\n",
       "      <th>43</th>\n",
       "      <td>22</td>\n",
       "      <td>1</td>\n",
       "      <td>0</td>\n",
       "      <td>1</td>\n",
       "      <td>0</td>\n",
       "      <td>1</td>\n",
       "    </tr>\n",
       "    <tr>\n",
       "      <th>19</th>\n",
       "      <td>24</td>\n",
       "      <td>1</td>\n",
       "      <td>2</td>\n",
       "      <td>0</td>\n",
       "      <td>1</td>\n",
       "      <td>1</td>\n",
       "    </tr>\n",
       "    <tr>\n",
       "      <th>78</th>\n",
       "      <td>25</td>\n",
       "      <td>1</td>\n",
       "      <td>2</td>\n",
       "      <td>0</td>\n",
       "      <td>0</td>\n",
       "      <td>1</td>\n",
       "    </tr>\n",
       "    <tr>\n",
       "      <th>68</th>\n",
       "      <td>25</td>\n",
       "      <td>1</td>\n",
       "      <td>0</td>\n",
       "      <td>0</td>\n",
       "      <td>0</td>\n",
       "      <td>1</td>\n",
       "    </tr>\n",
       "    <tr>\n",
       "      <th>58</th>\n",
       "      <td>26</td>\n",
       "      <td>1</td>\n",
       "      <td>0</td>\n",
       "      <td>2</td>\n",
       "      <td>0</td>\n",
       "      <td>1</td>\n",
       "    </tr>\n",
       "    <tr>\n",
       "      <th>39</th>\n",
       "      <td>26</td>\n",
       "      <td>1</td>\n",
       "      <td>2</td>\n",
       "      <td>0</td>\n",
       "      <td>1</td>\n",
       "      <td>1</td>\n",
       "    </tr>\n",
       "    <tr>\n",
       "      <th>34</th>\n",
       "      <td>26</td>\n",
       "      <td>2</td>\n",
       "      <td>2</td>\n",
       "      <td>1</td>\n",
       "      <td>0</td>\n",
       "      <td>1</td>\n",
       "    </tr>\n",
       "    <tr>\n",
       "      <th>1</th>\n",
       "      <td>26</td>\n",
       "      <td>2</td>\n",
       "      <td>0</td>\n",
       "      <td>1</td>\n",
       "      <td>0</td>\n",
       "      <td>1</td>\n",
       "    </tr>\n",
       "    <tr>\n",
       "      <th>40</th>\n",
       "      <td>27</td>\n",
       "      <td>1</td>\n",
       "      <td>0</td>\n",
       "      <td>2</td>\n",
       "      <td>1</td>\n",
       "      <td>1</td>\n",
       "    </tr>\n",
       "    <tr>\n",
       "      <th>23</th>\n",
       "      <td>27</td>\n",
       "      <td>1</td>\n",
       "      <td>0</td>\n",
       "      <td>0</td>\n",
       "      <td>1</td>\n",
       "      <td>1</td>\n",
       "    </tr>\n",
       "    <tr>\n",
       "      <th>9</th>\n",
       "      <td>27</td>\n",
       "      <td>1</td>\n",
       "      <td>1</td>\n",
       "      <td>1</td>\n",
       "      <td>0</td>\n",
       "      <td>1</td>\n",
       "    </tr>\n",
       "    <tr>\n",
       "      <th>33</th>\n",
       "      <td>27</td>\n",
       "      <td>2</td>\n",
       "      <td>0</td>\n",
       "      <td>1</td>\n",
       "      <td>1</td>\n",
       "      <td>1</td>\n",
       "    </tr>\n",
       "    <tr>\n",
       "      <th>35</th>\n",
       "      <td>28</td>\n",
       "      <td>3</td>\n",
       "      <td>0</td>\n",
       "      <td>2</td>\n",
       "      <td>0</td>\n",
       "      <td>1</td>\n",
       "    </tr>\n",
       "    <tr>\n",
       "      <th>66</th>\n",
       "      <td>28</td>\n",
       "      <td>3</td>\n",
       "      <td>0</td>\n",
       "      <td>1</td>\n",
       "      <td>0</td>\n",
       "      <td>1</td>\n",
       "    </tr>\n",
       "    <tr>\n",
       "      <th>45</th>\n",
       "      <td>28</td>\n",
       "      <td>3</td>\n",
       "      <td>0</td>\n",
       "      <td>1</td>\n",
       "      <td>1</td>\n",
       "      <td>1</td>\n",
       "    </tr>\n",
       "    <tr>\n",
       "      <th>77</th>\n",
       "      <td>29</td>\n",
       "      <td>2</td>\n",
       "      <td>1</td>\n",
       "      <td>2</td>\n",
       "      <td>0</td>\n",
       "      <td>1</td>\n",
       "    </tr>\n",
       "    <tr>\n",
       "      <th>71</th>\n",
       "      <td>29</td>\n",
       "      <td>1</td>\n",
       "      <td>2</td>\n",
       "      <td>0</td>\n",
       "      <td>1</td>\n",
       "      <td>1</td>\n",
       "    </tr>\n",
       "    <tr>\n",
       "      <th>49</th>\n",
       "      <td>29</td>\n",
       "      <td>2</td>\n",
       "      <td>0</td>\n",
       "      <td>0</td>\n",
       "      <td>1</td>\n",
       "      <td>1</td>\n",
       "    </tr>\n",
       "    <tr>\n",
       "      <th>54</th>\n",
       "      <td>29</td>\n",
       "      <td>2</td>\n",
       "      <td>0</td>\n",
       "      <td>1</td>\n",
       "      <td>1</td>\n",
       "      <td>1</td>\n",
       "    </tr>\n",
       "    <tr>\n",
       "      <th>14</th>\n",
       "      <td>29</td>\n",
       "      <td>1</td>\n",
       "      <td>2</td>\n",
       "      <td>0</td>\n",
       "      <td>1</td>\n",
       "      <td>1</td>\n",
       "    </tr>\n",
       "    <tr>\n",
       "      <th>59</th>\n",
       "      <td>30</td>\n",
       "      <td>2</td>\n",
       "      <td>1</td>\n",
       "      <td>2</td>\n",
       "      <td>1</td>\n",
       "      <td>1</td>\n",
       "    </tr>\n",
       "    <tr>\n",
       "      <th>32</th>\n",
       "      <td>32</td>\n",
       "      <td>2</td>\n",
       "      <td>0</td>\n",
       "      <td>2</td>\n",
       "      <td>1</td>\n",
       "      <td>1</td>\n",
       "    </tr>\n",
       "    <tr>\n",
       "      <th>63</th>\n",
       "      <td>32</td>\n",
       "      <td>2</td>\n",
       "      <td>0</td>\n",
       "      <td>1</td>\n",
       "      <td>1</td>\n",
       "      <td>1</td>\n",
       "    </tr>\n",
       "    <tr>\n",
       "      <th>62</th>\n",
       "      <td>32</td>\n",
       "      <td>2</td>\n",
       "      <td>0</td>\n",
       "      <td>0</td>\n",
       "      <td>0</td>\n",
       "      <td>1</td>\n",
       "    </tr>\n",
       "    <tr>\n",
       "      <th>7</th>\n",
       "      <td>32</td>\n",
       "      <td>3</td>\n",
       "      <td>0</td>\n",
       "      <td>1</td>\n",
       "      <td>0</td>\n",
       "      <td>1</td>\n",
       "    </tr>\n",
       "    <tr>\n",
       "      <th>47</th>\n",
       "      <td>32</td>\n",
       "      <td>2</td>\n",
       "      <td>0</td>\n",
       "      <td>2</td>\n",
       "      <td>1</td>\n",
       "      <td>1</td>\n",
       "    </tr>\n",
       "    <tr>\n",
       "      <th>28</th>\n",
       "      <td>32</td>\n",
       "      <td>1</td>\n",
       "      <td>0</td>\n",
       "      <td>2</td>\n",
       "      <td>1</td>\n",
       "      <td>1</td>\n",
       "    </tr>\n",
       "    <tr>\n",
       "      <th>56</th>\n",
       "      <td>32</td>\n",
       "      <td>3</td>\n",
       "      <td>1</td>\n",
       "      <td>0</td>\n",
       "      <td>1</td>\n",
       "      <td>1</td>\n",
       "    </tr>\n",
       "    <tr>\n",
       "      <th>11</th>\n",
       "      <td>33</td>\n",
       "      <td>1</td>\n",
       "      <td>1</td>\n",
       "      <td>0</td>\n",
       "      <td>0</td>\n",
       "      <td>1</td>\n",
       "    </tr>\n",
       "    <tr>\n",
       "      <th>76</th>\n",
       "      <td>33</td>\n",
       "      <td>4</td>\n",
       "      <td>0</td>\n",
       "      <td>1</td>\n",
       "      <td>0</td>\n",
       "      <td>1</td>\n",
       "    </tr>\n",
       "    <tr>\n",
       "      <th>21</th>\n",
       "      <td>33</td>\n",
       "      <td>2</td>\n",
       "      <td>0</td>\n",
       "      <td>0</td>\n",
       "      <td>1</td>\n",
       "      <td>1</td>\n",
       "    </tr>\n",
       "    <tr>\n",
       "      <th>65</th>\n",
       "      <td>35</td>\n",
       "      <td>2</td>\n",
       "      <td>0</td>\n",
       "      <td>1</td>\n",
       "      <td>0</td>\n",
       "      <td>1</td>\n",
       "    </tr>\n",
       "    <tr>\n",
       "      <th>42</th>\n",
       "      <td>36</td>\n",
       "      <td>1</td>\n",
       "      <td>1</td>\n",
       "      <td>2</td>\n",
       "      <td>0</td>\n",
       "      <td>1</td>\n",
       "    </tr>\n",
       "    <tr>\n",
       "      <th>44</th>\n",
       "      <td>36</td>\n",
       "      <td>4</td>\n",
       "      <td>0</td>\n",
       "      <td>2</td>\n",
       "      <td>1</td>\n",
       "      <td>1</td>\n",
       "    </tr>\n",
       "    <tr>\n",
       "      <th>18</th>\n",
       "      <td>37</td>\n",
       "      <td>3</td>\n",
       "      <td>0</td>\n",
       "      <td>1</td>\n",
       "      <td>1</td>\n",
       "      <td>1</td>\n",
       "    </tr>\n",
       "    <tr>\n",
       "      <th>74</th>\n",
       "      <td>38</td>\n",
       "      <td>3</td>\n",
       "      <td>2</td>\n",
       "      <td>2</td>\n",
       "      <td>1</td>\n",
       "      <td>1</td>\n",
       "    </tr>\n",
       "    <tr>\n",
       "      <th>31</th>\n",
       "      <td>40</td>\n",
       "      <td>1</td>\n",
       "      <td>0</td>\n",
       "      <td>1</td>\n",
       "      <td>1</td>\n",
       "      <td>1</td>\n",
       "    </tr>\n",
       "  </tbody>\n",
       "</table>\n",
       "</div>"
      ],
      "text/plain": [
       "    Age  Delivery number Delivery time Blood Pressure Heart Problem Caesarian\n",
       "70   17                1             0              0             0         1\n",
       "26   18                1             1              2             1         1\n",
       "61   19                1             0              1             0         1\n",
       "41   19                1             0              1             0         1\n",
       "17   20                1             2              2             0         1\n",
       "24   20                1             0              2             1         1\n",
       "57   21                1             0              0             0         1\n",
       "51   21                2             1              0             1         1\n",
       "4    22                2             0              1             0         1\n",
       "43   22                1             0              1             0         1\n",
       "19   24                1             2              0             1         1\n",
       "78   25                1             2              0             0         1\n",
       "68   25                1             0              0             0         1\n",
       "58   26                1             0              2             0         1\n",
       "39   26                1             2              0             1         1\n",
       "34   26                2             2              1             0         1\n",
       "1    26                2             0              1             0         1\n",
       "40   27                1             0              2             1         1\n",
       "23   27                1             0              0             1         1\n",
       "9    27                1             1              1             0         1\n",
       "33   27                2             0              1             1         1\n",
       "35   28                3             0              2             0         1\n",
       "66   28                3             0              1             0         1\n",
       "45   28                3             0              1             1         1\n",
       "77   29                2             1              2             0         1\n",
       "71   29                1             2              0             1         1\n",
       "49   29                2             0              0             1         1\n",
       "54   29                2             0              1             1         1\n",
       "14   29                1             2              0             1         1\n",
       "59   30                2             1              2             1         1\n",
       "32   32                2             0              2             1         1\n",
       "63   32                2             0              1             1         1\n",
       "62   32                2             0              0             0         1\n",
       "7    32                3             0              1             0         1\n",
       "47   32                2             0              2             1         1\n",
       "28   32                1             0              2             1         1\n",
       "56   32                3             1              0             1         1\n",
       "11   33                1             1              0             0         1\n",
       "76   33                4             0              1             0         1\n",
       "21   33                2             0              0             1         1\n",
       "65   35                2             0              1             0         1\n",
       "42   36                1             1              2             0         1\n",
       "44   36                4             0              2             1         1\n",
       "18   37                3             0              1             1         1\n",
       "74   38                3             2              2             1         1\n",
       "31   40                1             0              1             1         1"
      ]
     },
     "execution_count": 42,
     "metadata": {},
     "output_type": "execute_result"
    }
   ],
   "source": [
    "df[df[\"Caesarian\"]=='1'].sort_values(\"Age\")"
   ]
  },
  {
   "cell_type": "markdown",
   "id": "dba92f48-d6ca-4f19-8911-d48ed2946da5",
   "metadata": {},
   "source": [
    "Exploring Age related data"
   ]
  },
  {
   "cell_type": "markdown",
   "id": "aef5e5fb-bb2a-446d-a193-2c7f88d98003",
   "metadata": {},
   "source": [
    "Count of mothers less than 30 years of age"
   ]
  },
  {
   "cell_type": "code",
   "execution_count": 45,
   "id": "f740f518-0524-4275-a35b-8969224669d0",
   "metadata": {
    "scrolled": true
   },
   "outputs": [
    {
     "data": {
      "text/plain": [
       "53"
      ]
     },
     "execution_count": 45,
     "metadata": {},
     "output_type": "execute_result"
    }
   ],
   "source": [
    "Agelessthan30 = df[\"Age\"] < 30\n",
    "df[Agelessthan30][\"Age\"].count()"
   ]
  },
  {
   "cell_type": "markdown",
   "id": "06182844-ee18-4011-bfb9-0e085df8538b",
   "metadata": {},
   "source": [
    "Count of mothers less than 30 years of age and had C-section delivery"
   ]
  },
  {
   "cell_type": "code",
   "execution_count": 51,
   "id": "05812f61-f626-4ea8-aeb1-aa0e451aa8cb",
   "metadata": {},
   "outputs": [
    {
     "data": {
      "text/plain": [
       "29"
      ]
     },
     "execution_count": 51,
     "metadata": {},
     "output_type": "execute_result"
    }
   ],
   "source": [
    "isCaesarian = df[\"Caesarian\"] == '1'\n",
    "df[Agelessthan30 & isCaesarian][\"Age\"].count()"
   ]
  },
  {
   "cell_type": "code",
   "execution_count": 54,
   "id": "4381a809-8b44-4c43-94e5-1aae4f59a991",
   "metadata": {},
   "outputs": [
    {
     "data": {
      "text/plain": [
       "54.716981132075475"
      ]
     },
     "execution_count": 54,
     "metadata": {},
     "output_type": "execute_result"
    }
   ],
   "source": [
    "29*100/53"
   ]
  },
  {
   "cell_type": "markdown",
   "id": "e080d89a-3e5f-4210-815a-04cd673a46f2",
   "metadata": {},
   "source": [
    "Count of mothers greater than or equal to 30 years of age"
   ]
  },
  {
   "cell_type": "code",
   "execution_count": 52,
   "id": "12368209-1eee-436e-a54e-6502ecabc344",
   "metadata": {},
   "outputs": [
    {
     "data": {
      "text/plain": [
       "27"
      ]
     },
     "execution_count": 52,
     "metadata": {},
     "output_type": "execute_result"
    }
   ],
   "source": [
    "Agegreaterthanequalto30 = df[\"Age\"] >= 30\n",
    "df[Agegreaterthanequalto30][\"Age\"].count()"
   ]
  },
  {
   "cell_type": "markdown",
   "id": "3f791252-4752-424c-9936-e919daed12a0",
   "metadata": {},
   "source": [
    "Count of mothers greater than or equal to 30 years of age and had C-section delivery"
   ]
  },
  {
   "cell_type": "code",
   "execution_count": 53,
   "id": "383b5ec0-c9b3-46dd-8c8f-2a9caa1cd232",
   "metadata": {},
   "outputs": [
    {
     "data": {
      "text/plain": [
       "17"
      ]
     },
     "execution_count": 53,
     "metadata": {},
     "output_type": "execute_result"
    }
   ],
   "source": [
    "df[Agegreaterthanequalto30 & isCaesarian][\"Age\"].count()"
   ]
  },
  {
   "cell_type": "code",
   "execution_count": 55,
   "id": "d5f9b1cb-ddac-48ee-bfea-4f3cb4e8ecd1",
   "metadata": {},
   "outputs": [
    {
     "data": {
      "text/plain": [
       "62.96296296296296"
      ]
     },
     "execution_count": 55,
     "metadata": {},
     "output_type": "execute_result"
    }
   ],
   "source": [
    "17*100/27"
   ]
  },
  {
   "cell_type": "markdown",
   "id": "f15e3adb-90b2-4e9b-bf0d-93ce7984b1b2",
   "metadata": {},
   "source": [
    "To explore age-related data, I grouped the sample data into mothers less than 30 years of age and mothers greater than or equal to 30 years of age. The less than 30 years of age group had lower chances of C-section as expected (55%) compared to mothers greater than or equal to 30 years of age (63%)."
   ]
  },
  {
   "cell_type": "markdown",
   "id": "54d8a6de-3ae3-4813-ac82-0a7403417901",
   "metadata": {},
   "source": []
  },
  {
   "cell_type": "markdown",
   "id": "3d717e4e-71b0-4f7b-924a-49ec86b97ddd",
   "metadata": {},
   "source": [
    "Exploring when baby is premie or latecomer"
   ]
  },
  {
   "cell_type": "code",
   "execution_count": 11,
   "id": "343a38d6-0ad3-4467-8d74-4f09bb6f0eb6",
   "metadata": {
    "scrolled": true
   },
   "outputs": [
    {
     "data": {
      "text/html": [
       "<div>\n",
       "<style scoped>\n",
       "    .dataframe tbody tr th:only-of-type {\n",
       "        vertical-align: middle;\n",
       "    }\n",
       "\n",
       "    .dataframe tbody tr th {\n",
       "        vertical-align: top;\n",
       "    }\n",
       "\n",
       "    .dataframe thead th {\n",
       "        text-align: right;\n",
       "    }\n",
       "</style>\n",
       "<table border=\"1\" class=\"dataframe\">\n",
       "  <thead>\n",
       "    <tr style=\"text-align: right;\">\n",
       "      <th></th>\n",
       "      <th>Age</th>\n",
       "      <th>Delivery number</th>\n",
       "      <th>Delivery time</th>\n",
       "      <th>Blood Pressure</th>\n",
       "      <th>Heart Problem</th>\n",
       "      <th>Caesarian</th>\n",
       "    </tr>\n",
       "  </thead>\n",
       "  <tbody>\n",
       "    <tr>\n",
       "      <th>2</th>\n",
       "      <td>26</td>\n",
       "      <td>2</td>\n",
       "      <td>1</td>\n",
       "      <td>1</td>\n",
       "      <td>0</td>\n",
       "      <td>0</td>\n",
       "    </tr>\n",
       "    <tr>\n",
       "      <th>5</th>\n",
       "      <td>26</td>\n",
       "      <td>1</td>\n",
       "      <td>1</td>\n",
       "      <td>0</td>\n",
       "      <td>0</td>\n",
       "      <td>0</td>\n",
       "    </tr>\n",
       "    <tr>\n",
       "      <th>9</th>\n",
       "      <td>27</td>\n",
       "      <td>1</td>\n",
       "      <td>1</td>\n",
       "      <td>1</td>\n",
       "      <td>0</td>\n",
       "      <td>1</td>\n",
       "    </tr>\n",
       "    <tr>\n",
       "      <th>11</th>\n",
       "      <td>33</td>\n",
       "      <td>1</td>\n",
       "      <td>1</td>\n",
       "      <td>0</td>\n",
       "      <td>0</td>\n",
       "      <td>1</td>\n",
       "    </tr>\n",
       "    <tr>\n",
       "      <th>12</th>\n",
       "      <td>23</td>\n",
       "      <td>1</td>\n",
       "      <td>1</td>\n",
       "      <td>1</td>\n",
       "      <td>0</td>\n",
       "      <td>0</td>\n",
       "    </tr>\n",
       "    <tr>\n",
       "      <th>14</th>\n",
       "      <td>29</td>\n",
       "      <td>1</td>\n",
       "      <td>2</td>\n",
       "      <td>0</td>\n",
       "      <td>1</td>\n",
       "      <td>1</td>\n",
       "    </tr>\n",
       "    <tr>\n",
       "      <th>15</th>\n",
       "      <td>25</td>\n",
       "      <td>1</td>\n",
       "      <td>2</td>\n",
       "      <td>0</td>\n",
       "      <td>0</td>\n",
       "      <td>0</td>\n",
       "    </tr>\n",
       "    <tr>\n",
       "      <th>17</th>\n",
       "      <td>20</td>\n",
       "      <td>1</td>\n",
       "      <td>2</td>\n",
       "      <td>2</td>\n",
       "      <td>0</td>\n",
       "      <td>1</td>\n",
       "    </tr>\n",
       "    <tr>\n",
       "      <th>19</th>\n",
       "      <td>24</td>\n",
       "      <td>1</td>\n",
       "      <td>2</td>\n",
       "      <td>0</td>\n",
       "      <td>1</td>\n",
       "      <td>1</td>\n",
       "    </tr>\n",
       "    <tr>\n",
       "      <th>20</th>\n",
       "      <td>26</td>\n",
       "      <td>1</td>\n",
       "      <td>1</td>\n",
       "      <td>1</td>\n",
       "      <td>0</td>\n",
       "      <td>0</td>\n",
       "    </tr>\n",
       "    <tr>\n",
       "      <th>22</th>\n",
       "      <td>25</td>\n",
       "      <td>1</td>\n",
       "      <td>1</td>\n",
       "      <td>2</td>\n",
       "      <td>0</td>\n",
       "      <td>0</td>\n",
       "    </tr>\n",
       "    <tr>\n",
       "      <th>26</th>\n",
       "      <td>18</td>\n",
       "      <td>1</td>\n",
       "      <td>1</td>\n",
       "      <td>2</td>\n",
       "      <td>1</td>\n",
       "      <td>1</td>\n",
       "    </tr>\n",
       "    <tr>\n",
       "      <th>29</th>\n",
       "      <td>26</td>\n",
       "      <td>2</td>\n",
       "      <td>1</td>\n",
       "      <td>1</td>\n",
       "      <td>1</td>\n",
       "      <td>0</td>\n",
       "    </tr>\n",
       "    <tr>\n",
       "      <th>34</th>\n",
       "      <td>26</td>\n",
       "      <td>2</td>\n",
       "      <td>2</td>\n",
       "      <td>1</td>\n",
       "      <td>0</td>\n",
       "      <td>1</td>\n",
       "    </tr>\n",
       "    <tr>\n",
       "      <th>36</th>\n",
       "      <td>33</td>\n",
       "      <td>1</td>\n",
       "      <td>1</td>\n",
       "      <td>1</td>\n",
       "      <td>0</td>\n",
       "      <td>0</td>\n",
       "    </tr>\n",
       "    <tr>\n",
       "      <th>37</th>\n",
       "      <td>31</td>\n",
       "      <td>2</td>\n",
       "      <td>2</td>\n",
       "      <td>1</td>\n",
       "      <td>0</td>\n",
       "      <td>0</td>\n",
       "    </tr>\n",
       "    <tr>\n",
       "      <th>39</th>\n",
       "      <td>26</td>\n",
       "      <td>1</td>\n",
       "      <td>2</td>\n",
       "      <td>0</td>\n",
       "      <td>1</td>\n",
       "      <td>1</td>\n",
       "    </tr>\n",
       "    <tr>\n",
       "      <th>42</th>\n",
       "      <td>36</td>\n",
       "      <td>1</td>\n",
       "      <td>1</td>\n",
       "      <td>2</td>\n",
       "      <td>0</td>\n",
       "      <td>1</td>\n",
       "    </tr>\n",
       "    <tr>\n",
       "      <th>48</th>\n",
       "      <td>26</td>\n",
       "      <td>2</td>\n",
       "      <td>2</td>\n",
       "      <td>1</td>\n",
       "      <td>0</td>\n",
       "      <td>0</td>\n",
       "    </tr>\n",
       "    <tr>\n",
       "      <th>50</th>\n",
       "      <td>33</td>\n",
       "      <td>3</td>\n",
       "      <td>2</td>\n",
       "      <td>1</td>\n",
       "      <td>1</td>\n",
       "      <td>0</td>\n",
       "    </tr>\n",
       "    <tr>\n",
       "      <th>51</th>\n",
       "      <td>21</td>\n",
       "      <td>2</td>\n",
       "      <td>1</td>\n",
       "      <td>0</td>\n",
       "      <td>1</td>\n",
       "      <td>1</td>\n",
       "    </tr>\n",
       "    <tr>\n",
       "      <th>52</th>\n",
       "      <td>30</td>\n",
       "      <td>3</td>\n",
       "      <td>2</td>\n",
       "      <td>2</td>\n",
       "      <td>0</td>\n",
       "      <td>0</td>\n",
       "    </tr>\n",
       "    <tr>\n",
       "      <th>53</th>\n",
       "      <td>35</td>\n",
       "      <td>1</td>\n",
       "      <td>1</td>\n",
       "      <td>0</td>\n",
       "      <td>0</td>\n",
       "      <td>0</td>\n",
       "    </tr>\n",
       "    <tr>\n",
       "      <th>56</th>\n",
       "      <td>32</td>\n",
       "      <td>3</td>\n",
       "      <td>1</td>\n",
       "      <td>0</td>\n",
       "      <td>1</td>\n",
       "      <td>1</td>\n",
       "    </tr>\n",
       "    <tr>\n",
       "      <th>59</th>\n",
       "      <td>30</td>\n",
       "      <td>2</td>\n",
       "      <td>1</td>\n",
       "      <td>2</td>\n",
       "      <td>1</td>\n",
       "      <td>1</td>\n",
       "    </tr>\n",
       "    <tr>\n",
       "      <th>60</th>\n",
       "      <td>22</td>\n",
       "      <td>1</td>\n",
       "      <td>2</td>\n",
       "      <td>2</td>\n",
       "      <td>0</td>\n",
       "      <td>0</td>\n",
       "    </tr>\n",
       "    <tr>\n",
       "      <th>64</th>\n",
       "      <td>31</td>\n",
       "      <td>1</td>\n",
       "      <td>2</td>\n",
       "      <td>2</td>\n",
       "      <td>1</td>\n",
       "      <td>0</td>\n",
       "    </tr>\n",
       "    <tr>\n",
       "      <th>69</th>\n",
       "      <td>27</td>\n",
       "      <td>2</td>\n",
       "      <td>2</td>\n",
       "      <td>0</td>\n",
       "      <td>0</td>\n",
       "      <td>0</td>\n",
       "    </tr>\n",
       "    <tr>\n",
       "      <th>71</th>\n",
       "      <td>29</td>\n",
       "      <td>1</td>\n",
       "      <td>2</td>\n",
       "      <td>0</td>\n",
       "      <td>1</td>\n",
       "      <td>1</td>\n",
       "    </tr>\n",
       "    <tr>\n",
       "      <th>74</th>\n",
       "      <td>38</td>\n",
       "      <td>3</td>\n",
       "      <td>2</td>\n",
       "      <td>2</td>\n",
       "      <td>1</td>\n",
       "      <td>1</td>\n",
       "    </tr>\n",
       "    <tr>\n",
       "      <th>75</th>\n",
       "      <td>27</td>\n",
       "      <td>2</td>\n",
       "      <td>1</td>\n",
       "      <td>1</td>\n",
       "      <td>0</td>\n",
       "      <td>0</td>\n",
       "    </tr>\n",
       "    <tr>\n",
       "      <th>77</th>\n",
       "      <td>29</td>\n",
       "      <td>2</td>\n",
       "      <td>1</td>\n",
       "      <td>2</td>\n",
       "      <td>0</td>\n",
       "      <td>1</td>\n",
       "    </tr>\n",
       "    <tr>\n",
       "      <th>78</th>\n",
       "      <td>25</td>\n",
       "      <td>1</td>\n",
       "      <td>2</td>\n",
       "      <td>0</td>\n",
       "      <td>0</td>\n",
       "      <td>1</td>\n",
       "    </tr>\n",
       "    <tr>\n",
       "      <th>79</th>\n",
       "      <td>24</td>\n",
       "      <td>2</td>\n",
       "      <td>2</td>\n",
       "      <td>1</td>\n",
       "      <td>0</td>\n",
       "      <td>0</td>\n",
       "    </tr>\n",
       "  </tbody>\n",
       "</table>\n",
       "</div>"
      ],
      "text/plain": [
       "    Age  Delivery number Delivery time Blood Pressure Heart Problem Caesarian\n",
       "2    26                2             1              1             0         0\n",
       "5    26                1             1              0             0         0\n",
       "9    27                1             1              1             0         1\n",
       "11   33                1             1              0             0         1\n",
       "12   23                1             1              1             0         0\n",
       "14   29                1             2              0             1         1\n",
       "15   25                1             2              0             0         0\n",
       "17   20                1             2              2             0         1\n",
       "19   24                1             2              0             1         1\n",
       "20   26                1             1              1             0         0\n",
       "22   25                1             1              2             0         0\n",
       "26   18                1             1              2             1         1\n",
       "29   26                2             1              1             1         0\n",
       "34   26                2             2              1             0         1\n",
       "36   33                1             1              1             0         0\n",
       "37   31                2             2              1             0         0\n",
       "39   26                1             2              0             1         1\n",
       "42   36                1             1              2             0         1\n",
       "48   26                2             2              1             0         0\n",
       "50   33                3             2              1             1         0\n",
       "51   21                2             1              0             1         1\n",
       "52   30                3             2              2             0         0\n",
       "53   35                1             1              0             0         0\n",
       "56   32                3             1              0             1         1\n",
       "59   30                2             1              2             1         1\n",
       "60   22                1             2              2             0         0\n",
       "64   31                1             2              2             1         0\n",
       "69   27                2             2              0             0         0\n",
       "71   29                1             2              0             1         1\n",
       "74   38                3             2              2             1         1\n",
       "75   27                2             1              1             0         0\n",
       "77   29                2             1              2             0         1\n",
       "78   25                1             2              0             0         1\n",
       "79   24                2             2              1             0         0"
      ]
     },
     "execution_count": 11,
     "metadata": {},
     "output_type": "execute_result"
    }
   ],
   "source": [
    "df[(df[\"Delivery time\"] == '1') | (df[\"Delivery time\"] == '2')]"
   ]
  },
  {
   "cell_type": "code",
   "execution_count": 12,
   "id": "77a69372-c467-4dff-bb16-1d21f7a6e82c",
   "metadata": {},
   "outputs": [
    {
     "data": {
      "text/plain": [
       "Delivery time\n",
       "0    30\n",
       "1     8\n",
       "2     8\n",
       "dtype: int64"
      ]
     },
     "execution_count": 12,
     "metadata": {},
     "output_type": "execute_result"
    }
   ],
   "source": [
    "df[df[\"Caesarian\"]=='1'].groupby(\"Delivery time\", observed=False).size() #adding observed=False because of a warning in group by"
   ]
  },
  {
   "cell_type": "code",
   "execution_count": 13,
   "id": "6dfc86c0-1d79-40be-b9d8-0ddc9afd453d",
   "metadata": {},
   "outputs": [
    {
     "data": {
      "text/plain": [
       "Delivery time\n",
       "0    46\n",
       "1    17\n",
       "2    17\n",
       "dtype: int64"
      ]
     },
     "execution_count": 13,
     "metadata": {},
     "output_type": "execute_result"
    }
   ],
   "source": [
    "df.groupby(\"Delivery time\", observed=False).size()"
   ]
  },
  {
   "cell_type": "code",
   "execution_count": 14,
   "id": "74b43f8e-39d9-4667-aa63-a0b60607bddb",
   "metadata": {},
   "outputs": [
    {
     "data": {
      "text/plain": [
       "65.21739130434783"
      ]
     },
     "execution_count": 14,
     "metadata": {},
     "output_type": "execute_result"
    }
   ],
   "source": [
    "30/46 * 100"
   ]
  },
  {
   "cell_type": "code",
   "execution_count": 15,
   "id": "5551f935-7648-4512-a944-cb3e80c55486",
   "metadata": {},
   "outputs": [
    {
     "data": {
      "text/plain": [
       "47.05882352941176"
      ]
     },
     "execution_count": 15,
     "metadata": {},
     "output_type": "execute_result"
    }
   ],
   "source": [
    "16/34 * 100"
   ]
  },
  {
   "cell_type": "markdown",
   "id": "66947231-5746-4805-bc3d-fdd6c7d08612",
   "metadata": {},
   "source": [
    "Conclusion - \n",
    "65% of deliveries that were full term resulted in C section. \n",
    "47% of deliveries that were either pre-term or post-term resulted in C section.\n",
    "Hence, this sample data set does not prove my assumption that pre/post term deliveries \n",
    "lead to a higher chance of C section."
   ]
  },
  {
   "cell_type": "code",
   "execution_count": null,
   "id": "4180996f-9bd3-4577-9557-657883099b1b",
   "metadata": {},
   "outputs": [],
   "source": []
  },
  {
   "cell_type": "markdown",
   "id": "a6795a91-dcd1-4752-af7c-e4d83afcdd09",
   "metadata": {},
   "source": [
    "Exploring data when mother's blood pressure at time of delivery is abnormal"
   ]
  },
  {
   "cell_type": "code",
   "execution_count": 16,
   "id": "449c423b-0f3c-43a6-993b-635604c5e56b",
   "metadata": {
    "scrolled": true
   },
   "outputs": [
    {
     "data": {
      "text/html": [
       "<div>\n",
       "<style scoped>\n",
       "    .dataframe tbody tr th:only-of-type {\n",
       "        vertical-align: middle;\n",
       "    }\n",
       "\n",
       "    .dataframe tbody tr th {\n",
       "        vertical-align: top;\n",
       "    }\n",
       "\n",
       "    .dataframe thead th {\n",
       "        text-align: right;\n",
       "    }\n",
       "</style>\n",
       "<table border=\"1\" class=\"dataframe\">\n",
       "  <thead>\n",
       "    <tr style=\"text-align: right;\">\n",
       "      <th></th>\n",
       "      <th>Age</th>\n",
       "      <th>Delivery number</th>\n",
       "      <th>Delivery time</th>\n",
       "      <th>Blood Pressure</th>\n",
       "      <th>Heart Problem</th>\n",
       "      <th>Caesarian</th>\n",
       "    </tr>\n",
       "  </thead>\n",
       "  <tbody>\n",
       "    <tr>\n",
       "      <th>0</th>\n",
       "      <td>22</td>\n",
       "      <td>1</td>\n",
       "      <td>0</td>\n",
       "      <td>2</td>\n",
       "      <td>0</td>\n",
       "      <td>0</td>\n",
       "    </tr>\n",
       "    <tr>\n",
       "      <th>3</th>\n",
       "      <td>28</td>\n",
       "      <td>1</td>\n",
       "      <td>0</td>\n",
       "      <td>2</td>\n",
       "      <td>0</td>\n",
       "      <td>0</td>\n",
       "    </tr>\n",
       "    <tr>\n",
       "      <th>5</th>\n",
       "      <td>26</td>\n",
       "      <td>1</td>\n",
       "      <td>1</td>\n",
       "      <td>0</td>\n",
       "      <td>0</td>\n",
       "      <td>0</td>\n",
       "    </tr>\n",
       "    <tr>\n",
       "      <th>11</th>\n",
       "      <td>33</td>\n",
       "      <td>1</td>\n",
       "      <td>1</td>\n",
       "      <td>0</td>\n",
       "      <td>0</td>\n",
       "      <td>1</td>\n",
       "    </tr>\n",
       "    <tr>\n",
       "      <th>14</th>\n",
       "      <td>29</td>\n",
       "      <td>1</td>\n",
       "      <td>2</td>\n",
       "      <td>0</td>\n",
       "      <td>1</td>\n",
       "      <td>1</td>\n",
       "    </tr>\n",
       "    <tr>\n",
       "      <th>15</th>\n",
       "      <td>25</td>\n",
       "      <td>1</td>\n",
       "      <td>2</td>\n",
       "      <td>0</td>\n",
       "      <td>0</td>\n",
       "      <td>0</td>\n",
       "    </tr>\n",
       "    <tr>\n",
       "      <th>17</th>\n",
       "      <td>20</td>\n",
       "      <td>1</td>\n",
       "      <td>2</td>\n",
       "      <td>2</td>\n",
       "      <td>0</td>\n",
       "      <td>1</td>\n",
       "    </tr>\n",
       "    <tr>\n",
       "      <th>19</th>\n",
       "      <td>24</td>\n",
       "      <td>1</td>\n",
       "      <td>2</td>\n",
       "      <td>0</td>\n",
       "      <td>1</td>\n",
       "      <td>1</td>\n",
       "    </tr>\n",
       "    <tr>\n",
       "      <th>21</th>\n",
       "      <td>33</td>\n",
       "      <td>2</td>\n",
       "      <td>0</td>\n",
       "      <td>0</td>\n",
       "      <td>1</td>\n",
       "      <td>1</td>\n",
       "    </tr>\n",
       "    <tr>\n",
       "      <th>22</th>\n",
       "      <td>25</td>\n",
       "      <td>1</td>\n",
       "      <td>1</td>\n",
       "      <td>2</td>\n",
       "      <td>0</td>\n",
       "      <td>0</td>\n",
       "    </tr>\n",
       "    <tr>\n",
       "      <th>23</th>\n",
       "      <td>27</td>\n",
       "      <td>1</td>\n",
       "      <td>0</td>\n",
       "      <td>0</td>\n",
       "      <td>1</td>\n",
       "      <td>1</td>\n",
       "    </tr>\n",
       "    <tr>\n",
       "      <th>24</th>\n",
       "      <td>20</td>\n",
       "      <td>1</td>\n",
       "      <td>0</td>\n",
       "      <td>2</td>\n",
       "      <td>1</td>\n",
       "      <td>1</td>\n",
       "    </tr>\n",
       "    <tr>\n",
       "      <th>26</th>\n",
       "      <td>18</td>\n",
       "      <td>1</td>\n",
       "      <td>1</td>\n",
       "      <td>2</td>\n",
       "      <td>1</td>\n",
       "      <td>1</td>\n",
       "    </tr>\n",
       "    <tr>\n",
       "      <th>28</th>\n",
       "      <td>32</td>\n",
       "      <td>1</td>\n",
       "      <td>0</td>\n",
       "      <td>2</td>\n",
       "      <td>1</td>\n",
       "      <td>1</td>\n",
       "    </tr>\n",
       "    <tr>\n",
       "      <th>30</th>\n",
       "      <td>25</td>\n",
       "      <td>1</td>\n",
       "      <td>0</td>\n",
       "      <td>0</td>\n",
       "      <td>0</td>\n",
       "      <td>0</td>\n",
       "    </tr>\n",
       "    <tr>\n",
       "      <th>32</th>\n",
       "      <td>32</td>\n",
       "      <td>2</td>\n",
       "      <td>0</td>\n",
       "      <td>2</td>\n",
       "      <td>1</td>\n",
       "      <td>1</td>\n",
       "    </tr>\n",
       "    <tr>\n",
       "      <th>35</th>\n",
       "      <td>28</td>\n",
       "      <td>3</td>\n",
       "      <td>0</td>\n",
       "      <td>2</td>\n",
       "      <td>0</td>\n",
       "      <td>1</td>\n",
       "    </tr>\n",
       "    <tr>\n",
       "      <th>39</th>\n",
       "      <td>26</td>\n",
       "      <td>1</td>\n",
       "      <td>2</td>\n",
       "      <td>0</td>\n",
       "      <td>1</td>\n",
       "      <td>1</td>\n",
       "    </tr>\n",
       "    <tr>\n",
       "      <th>40</th>\n",
       "      <td>27</td>\n",
       "      <td>1</td>\n",
       "      <td>0</td>\n",
       "      <td>2</td>\n",
       "      <td>1</td>\n",
       "      <td>1</td>\n",
       "    </tr>\n",
       "    <tr>\n",
       "      <th>42</th>\n",
       "      <td>36</td>\n",
       "      <td>1</td>\n",
       "      <td>1</td>\n",
       "      <td>2</td>\n",
       "      <td>0</td>\n",
       "      <td>1</td>\n",
       "    </tr>\n",
       "    <tr>\n",
       "      <th>44</th>\n",
       "      <td>36</td>\n",
       "      <td>4</td>\n",
       "      <td>0</td>\n",
       "      <td>2</td>\n",
       "      <td>1</td>\n",
       "      <td>1</td>\n",
       "    </tr>\n",
       "    <tr>\n",
       "      <th>47</th>\n",
       "      <td>32</td>\n",
       "      <td>2</td>\n",
       "      <td>0</td>\n",
       "      <td>2</td>\n",
       "      <td>1</td>\n",
       "      <td>1</td>\n",
       "    </tr>\n",
       "    <tr>\n",
       "      <th>49</th>\n",
       "      <td>29</td>\n",
       "      <td>2</td>\n",
       "      <td>0</td>\n",
       "      <td>0</td>\n",
       "      <td>1</td>\n",
       "      <td>1</td>\n",
       "    </tr>\n",
       "    <tr>\n",
       "      <th>51</th>\n",
       "      <td>21</td>\n",
       "      <td>2</td>\n",
       "      <td>1</td>\n",
       "      <td>0</td>\n",
       "      <td>1</td>\n",
       "      <td>1</td>\n",
       "    </tr>\n",
       "    <tr>\n",
       "      <th>52</th>\n",
       "      <td>30</td>\n",
       "      <td>3</td>\n",
       "      <td>2</td>\n",
       "      <td>2</td>\n",
       "      <td>0</td>\n",
       "      <td>0</td>\n",
       "    </tr>\n",
       "    <tr>\n",
       "      <th>53</th>\n",
       "      <td>35</td>\n",
       "      <td>1</td>\n",
       "      <td>1</td>\n",
       "      <td>0</td>\n",
       "      <td>0</td>\n",
       "      <td>0</td>\n",
       "    </tr>\n",
       "    <tr>\n",
       "      <th>56</th>\n",
       "      <td>32</td>\n",
       "      <td>3</td>\n",
       "      <td>1</td>\n",
       "      <td>0</td>\n",
       "      <td>1</td>\n",
       "      <td>1</td>\n",
       "    </tr>\n",
       "    <tr>\n",
       "      <th>57</th>\n",
       "      <td>21</td>\n",
       "      <td>1</td>\n",
       "      <td>0</td>\n",
       "      <td>0</td>\n",
       "      <td>0</td>\n",
       "      <td>1</td>\n",
       "    </tr>\n",
       "    <tr>\n",
       "      <th>58</th>\n",
       "      <td>26</td>\n",
       "      <td>1</td>\n",
       "      <td>0</td>\n",
       "      <td>2</td>\n",
       "      <td>0</td>\n",
       "      <td>1</td>\n",
       "    </tr>\n",
       "    <tr>\n",
       "      <th>59</th>\n",
       "      <td>30</td>\n",
       "      <td>2</td>\n",
       "      <td>1</td>\n",
       "      <td>2</td>\n",
       "      <td>1</td>\n",
       "      <td>1</td>\n",
       "    </tr>\n",
       "    <tr>\n",
       "      <th>60</th>\n",
       "      <td>22</td>\n",
       "      <td>1</td>\n",
       "      <td>2</td>\n",
       "      <td>2</td>\n",
       "      <td>0</td>\n",
       "      <td>0</td>\n",
       "    </tr>\n",
       "    <tr>\n",
       "      <th>62</th>\n",
       "      <td>32</td>\n",
       "      <td>2</td>\n",
       "      <td>0</td>\n",
       "      <td>0</td>\n",
       "      <td>0</td>\n",
       "      <td>1</td>\n",
       "    </tr>\n",
       "    <tr>\n",
       "      <th>64</th>\n",
       "      <td>31</td>\n",
       "      <td>1</td>\n",
       "      <td>2</td>\n",
       "      <td>2</td>\n",
       "      <td>1</td>\n",
       "      <td>0</td>\n",
       "    </tr>\n",
       "    <tr>\n",
       "      <th>68</th>\n",
       "      <td>25</td>\n",
       "      <td>1</td>\n",
       "      <td>0</td>\n",
       "      <td>0</td>\n",
       "      <td>0</td>\n",
       "      <td>1</td>\n",
       "    </tr>\n",
       "    <tr>\n",
       "      <th>69</th>\n",
       "      <td>27</td>\n",
       "      <td>2</td>\n",
       "      <td>2</td>\n",
       "      <td>0</td>\n",
       "      <td>0</td>\n",
       "      <td>0</td>\n",
       "    </tr>\n",
       "    <tr>\n",
       "      <th>70</th>\n",
       "      <td>17</td>\n",
       "      <td>1</td>\n",
       "      <td>0</td>\n",
       "      <td>0</td>\n",
       "      <td>0</td>\n",
       "      <td>1</td>\n",
       "    </tr>\n",
       "    <tr>\n",
       "      <th>71</th>\n",
       "      <td>29</td>\n",
       "      <td>1</td>\n",
       "      <td>2</td>\n",
       "      <td>0</td>\n",
       "      <td>1</td>\n",
       "      <td>1</td>\n",
       "    </tr>\n",
       "    <tr>\n",
       "      <th>74</th>\n",
       "      <td>38</td>\n",
       "      <td>3</td>\n",
       "      <td>2</td>\n",
       "      <td>2</td>\n",
       "      <td>1</td>\n",
       "      <td>1</td>\n",
       "    </tr>\n",
       "    <tr>\n",
       "      <th>77</th>\n",
       "      <td>29</td>\n",
       "      <td>2</td>\n",
       "      <td>1</td>\n",
       "      <td>2</td>\n",
       "      <td>0</td>\n",
       "      <td>1</td>\n",
       "    </tr>\n",
       "    <tr>\n",
       "      <th>78</th>\n",
       "      <td>25</td>\n",
       "      <td>1</td>\n",
       "      <td>2</td>\n",
       "      <td>0</td>\n",
       "      <td>0</td>\n",
       "      <td>1</td>\n",
       "    </tr>\n",
       "  </tbody>\n",
       "</table>\n",
       "</div>"
      ],
      "text/plain": [
       "    Age  Delivery number Delivery time Blood Pressure Heart Problem Caesarian\n",
       "0    22                1             0              2             0         0\n",
       "3    28                1             0              2             0         0\n",
       "5    26                1             1              0             0         0\n",
       "11   33                1             1              0             0         1\n",
       "14   29                1             2              0             1         1\n",
       "15   25                1             2              0             0         0\n",
       "17   20                1             2              2             0         1\n",
       "19   24                1             2              0             1         1\n",
       "21   33                2             0              0             1         1\n",
       "22   25                1             1              2             0         0\n",
       "23   27                1             0              0             1         1\n",
       "24   20                1             0              2             1         1\n",
       "26   18                1             1              2             1         1\n",
       "28   32                1             0              2             1         1\n",
       "30   25                1             0              0             0         0\n",
       "32   32                2             0              2             1         1\n",
       "35   28                3             0              2             0         1\n",
       "39   26                1             2              0             1         1\n",
       "40   27                1             0              2             1         1\n",
       "42   36                1             1              2             0         1\n",
       "44   36                4             0              2             1         1\n",
       "47   32                2             0              2             1         1\n",
       "49   29                2             0              0             1         1\n",
       "51   21                2             1              0             1         1\n",
       "52   30                3             2              2             0         0\n",
       "53   35                1             1              0             0         0\n",
       "56   32                3             1              0             1         1\n",
       "57   21                1             0              0             0         1\n",
       "58   26                1             0              2             0         1\n",
       "59   30                2             1              2             1         1\n",
       "60   22                1             2              2             0         0\n",
       "62   32                2             0              0             0         1\n",
       "64   31                1             2              2             1         0\n",
       "68   25                1             0              0             0         1\n",
       "69   27                2             2              0             0         0\n",
       "70   17                1             0              0             0         1\n",
       "71   29                1             2              0             1         1\n",
       "74   38                3             2              2             1         1\n",
       "77   29                2             1              2             0         1\n",
       "78   25                1             2              0             0         1"
      ]
     },
     "execution_count": 16,
     "metadata": {},
     "output_type": "execute_result"
    }
   ],
   "source": [
    "df[(df[\"Blood Pressure\"] == '0') | (df[\"Blood Pressure\"] == '2')]"
   ]
  },
  {
   "cell_type": "markdown",
   "id": "8d339ce4-4a5b-4f5d-ae5c-fbe4d0285ab6",
   "metadata": {},
   "source": [
    "Grouping total data by Blood Pressure category"
   ]
  },
  {
   "cell_type": "code",
   "execution_count": 17,
   "id": "7a9ddda8-b8cf-4540-b8f9-f517493f2791",
   "metadata": {},
   "outputs": [
    {
     "data": {
      "text/plain": [
       "Blood Pressure\n",
       "0    20\n",
       "1    40\n",
       "2    20\n",
       "dtype: int64"
      ]
     },
     "execution_count": 17,
     "metadata": {},
     "output_type": "execute_result"
    }
   ],
   "source": [
    "df.groupby(\"Blood Pressure\", observed=False).size()"
   ]
  },
  {
   "cell_type": "markdown",
   "id": "92d7d5a1-00e4-40d0-93af-f0d9548143dd",
   "metadata": {},
   "source": [
    "Grouping data by Blood Pressure category when delivery is C-section"
   ]
  },
  {
   "cell_type": "code",
   "execution_count": 18,
   "id": "819fa90d-a34e-4615-9350-ae0945616847",
   "metadata": {},
   "outputs": [
    {
     "data": {
      "text/plain": [
       "Blood Pressure\n",
       "0    15\n",
       "1    17\n",
       "2    14\n",
       "dtype: int64"
      ]
     },
     "execution_count": 18,
     "metadata": {},
     "output_type": "execute_result"
    }
   ],
   "source": [
    "df[df[\"Caesarian\"]=='1'].groupby(\"Blood Pressure\", observed=False).size()"
   ]
  },
  {
   "cell_type": "code",
   "execution_count": 19,
   "id": "d5855d2d-94ce-40bc-9e22-3571343f6ea2",
   "metadata": {},
   "outputs": [
    {
     "data": {
      "text/plain": [
       "42.5"
      ]
     },
     "execution_count": 19,
     "metadata": {},
     "output_type": "execute_result"
    }
   ],
   "source": [
    "17/40 * 100"
   ]
  },
  {
   "cell_type": "code",
   "execution_count": 20,
   "id": "c8039a73-dc56-4895-ac70-81d350419ec4",
   "metadata": {},
   "outputs": [
    {
     "data": {
      "text/plain": [
       "72.5"
      ]
     },
     "execution_count": 20,
     "metadata": {},
     "output_type": "execute_result"
    }
   ],
   "source": [
    "29/40 * 100"
   ]
  },
  {
   "cell_type": "markdown",
   "id": "bf564408-ced9-4cb5-9b4d-eed3a04b35ad",
   "metadata": {},
   "source": [
    "Conclusion\n",
    "42% of deliveries resulted in a C-section when the blood pressure of the mother at the time of delivery was normal. Whereas 72% of deliveries resulted in a C-section when the blood pressure was either low or high. So we can conclude from this data sample that chances of C-section increases as blood pressure becomes abnormal."
   ]
  },
  {
   "cell_type": "code",
   "execution_count": null,
   "id": "fab92649-a1b8-4e4c-8e9c-c7472a6a73bc",
   "metadata": {},
   "outputs": [],
   "source": []
  },
  {
   "cell_type": "markdown",
   "id": "8260580c-53d2-488b-b766-0711a6ee21a0",
   "metadata": {},
   "source": [
    "Exploring data based on number of deliveries:"
   ]
  },
  {
   "cell_type": "markdown",
   "id": "c5db89e0-40a0-4ed9-9dc5-5f766ad2c6a8",
   "metadata": {},
   "source": [
    "Grouping total data by Delivery number category"
   ]
  },
  {
   "cell_type": "code",
   "execution_count": 21,
   "id": "2a842fe0-db72-45a6-bad4-ce02934ec060",
   "metadata": {},
   "outputs": [
    {
     "data": {
      "text/plain": [
       "Delivery number\n",
       "1    41\n",
       "2    27\n",
       "3    10\n",
       "4     2\n",
       "dtype: int64"
      ]
     },
     "execution_count": 21,
     "metadata": {},
     "output_type": "execute_result"
    }
   ],
   "source": [
    "df.groupby(\"Delivery number\", observed=False).size()"
   ]
  },
  {
   "cell_type": "markdown",
   "id": "0cbc29cb-9fd8-4091-9a90-5ac4efd66bca",
   "metadata": {},
   "source": [
    "Grouping data by Delivery number category when delivery is C-section"
   ]
  },
  {
   "cell_type": "code",
   "execution_count": 22,
   "id": "d03a321b-1957-4cdd-9b76-6c7a03de67b4",
   "metadata": {},
   "outputs": [
    {
     "data": {
      "text/plain": [
       "Delivery number\n",
       "1    22\n",
       "2    15\n",
       "3     7\n",
       "4     2\n",
       "dtype: int64"
      ]
     },
     "execution_count": 22,
     "metadata": {},
     "output_type": "execute_result"
    }
   ],
   "source": [
    "df[df[\"Caesarian\"]=='1'].groupby(\"Delivery number\", observed=False).size()"
   ]
  },
  {
   "cell_type": "code",
   "execution_count": 23,
   "id": "49fc47a8-d187-4cd7-af68-bdbd1fbf8d76",
   "metadata": {},
   "outputs": [
    {
     "data": {
      "text/plain": [
       "53.65853658536586"
      ]
     },
     "execution_count": 23,
     "metadata": {},
     "output_type": "execute_result"
    }
   ],
   "source": [
    "22/41 * 100"
   ]
  },
  {
   "cell_type": "code",
   "execution_count": 24,
   "id": "fc144256-0201-47b8-9cda-6d00df4e6db1",
   "metadata": {},
   "outputs": [
    {
     "data": {
      "text/plain": [
       "55.55555555555556"
      ]
     },
     "execution_count": 24,
     "metadata": {},
     "output_type": "execute_result"
    }
   ],
   "source": [
    "15/27 * 100"
   ]
  },
  {
   "cell_type": "code",
   "execution_count": 25,
   "id": "e7d95b5e-c30d-487c-be03-10b6d8753cb4",
   "metadata": {},
   "outputs": [
    {
     "data": {
      "text/plain": [
       "70.0"
      ]
     },
     "execution_count": 25,
     "metadata": {},
     "output_type": "execute_result"
    }
   ],
   "source": [
    "7/10*100"
   ]
  },
  {
   "cell_type": "markdown",
   "id": "045b6eb4-324f-4962-bbc7-e5031795d03a",
   "metadata": {},
   "source": [
    "Conclusion:\n",
    "From this limited dataset of 80 women, I can conclude that chances of C-section increase as the number of deliveries that a mother has gone through increases."
   ]
  },
  {
   "cell_type": "markdown",
   "id": "70f0646a-fb13-4a60-bd7f-9316c7fd9d5f",
   "metadata": {},
   "source": []
  },
  {
   "cell_type": "markdown",
   "id": "1786292e-ef74-4619-9ab3-532297e4dd67",
   "metadata": {},
   "source": [
    "Exploring data based on heart problem:"
   ]
  },
  {
   "cell_type": "markdown",
   "id": "bcd99303-3162-4f91-96c3-ccfb1d1ae43a",
   "metadata": {},
   "source": [
    "Grouping total data by Heart Problem category"
   ]
  },
  {
   "cell_type": "code",
   "execution_count": 26,
   "id": "09ca5ff1-6508-4205-b308-81612392a167",
   "metadata": {},
   "outputs": [
    {
     "data": {
      "text/plain": [
       "Heart Problem\n",
       "0    50\n",
       "1    30\n",
       "dtype: int64"
      ]
     },
     "execution_count": 26,
     "metadata": {},
     "output_type": "execute_result"
    }
   ],
   "source": [
    "df.groupby(\"Heart Problem\", observed=False).size() #adding observed=False because of a warning in group by"
   ]
  },
  {
   "cell_type": "markdown",
   "id": "a3e8906a-3422-4f89-a08d-480c88d58d8e",
   "metadata": {},
   "source": [
    "Grouping data by Heart Problem category when delivery is C-section"
   ]
  },
  {
   "cell_type": "code",
   "execution_count": 27,
   "id": "3e9b0f81-0d8c-449c-907b-970a6393f6e9",
   "metadata": {},
   "outputs": [
    {
     "data": {
      "text/plain": [
       "Heart Problem\n",
       "0    22\n",
       "1    24\n",
       "dtype: int64"
      ]
     },
     "execution_count": 27,
     "metadata": {},
     "output_type": "execute_result"
    }
   ],
   "source": [
    "df[df[\"Caesarian\"]=='1'].groupby(\"Heart Problem\", observed=False).size()"
   ]
  },
  {
   "cell_type": "code",
   "execution_count": 28,
   "id": "94a5e3c9-4925-436b-8d03-9d1dbdd3a63d",
   "metadata": {},
   "outputs": [
    {
     "data": {
      "text/plain": [
       "44.0"
      ]
     },
     "execution_count": 28,
     "metadata": {},
     "output_type": "execute_result"
    }
   ],
   "source": [
    "22/50*100"
   ]
  },
  {
   "cell_type": "code",
   "execution_count": 29,
   "id": "cfb3b5fe-6be7-41c2-895a-bdfdc2de1b11",
   "metadata": {},
   "outputs": [
    {
     "data": {
      "text/plain": [
       "80.0"
      ]
     },
     "execution_count": 29,
     "metadata": {},
     "output_type": "execute_result"
    }
   ],
   "source": [
    "24/30*100"
   ]
  },
  {
   "cell_type": "markdown",
   "id": "2924b2d5-21b2-4f68-a623-3a7f562882a6",
   "metadata": {},
   "source": [
    "Conclusion\n",
    "From this sample set of mothers having heart problems, I can conclude that chances of C-section is 80% when the mother has a heart problem vs only 44% when the mother has a healthy heart."
   ]
  }
 ],
 "metadata": {
  "kernelspec": {
   "display_name": "Python 3 (ipykernel)",
   "language": "python",
   "name": "python3"
  },
  "language_info": {
   "codemirror_mode": {
    "name": "ipython",
    "version": 3
   },
   "file_extension": ".py",
   "mimetype": "text/x-python",
   "name": "python",
   "nbconvert_exporter": "python",
   "pygments_lexer": "ipython3",
   "version": "3.11.8"
  }
 },
 "nbformat": 4,
 "nbformat_minor": 5
}
